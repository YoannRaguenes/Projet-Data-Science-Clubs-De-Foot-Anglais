{
  "nbformat": 4,
  "nbformat_minor": 0,
  "metadata": {
    "colab": {
      "name": "Photo joueurs",
      "provenance": [],
      "collapsed_sections": [],
      "authorship_tag": "ABX9TyN7nfrlVQ+Du/Wh8zAVlK2T",
      "include_colab_link": true
    },
    "kernelspec": {
      "name": "python3",
      "display_name": "Python 3"
    }
  },
  "cells": [
    {
      "cell_type": "markdown",
      "metadata": {
        "id": "view-in-github",
        "colab_type": "text"
      },
      "source": [
        "<a href=\"https://colab.research.google.com/github/YoannRaguenes/Projet-Data-Science-Clubs-De-Foot-Anglais/blob/master/Photo_joueurs.ipynb\" target=\"_parent\"><img src=\"https://colab.research.google.com/assets/colab-badge.svg\" alt=\"Open In Colab\"/></a>"
      ]
    },
    {
      "cell_type": "code",
      "metadata": {
        "id": "eJzv77oLdVQ8",
        "colab_type": "code",
        "colab": {}
      },
      "source": [
        "from urllib.request import urlopen\n",
        "from bs4 import BeautifulSoup\n",
        "import pandas as pd"
      ],
      "execution_count": 0,
      "outputs": []
    },
    {
      "cell_type": "code",
      "metadata": {
        "id": "BmsQYjRtdi3X",
        "colab_type": "code",
        "colab": {
          "base_uri": "https://localhost:8080/",
          "height": 54
        },
        "outputId": "bff7c026-f0fa-429e-f535-dd44276fd567"
      },
      "source": [
        "from urllib.request import urlopen, Request\n",
        "headers = {'User-Agent':'Mozilla/5.0 (Windows NT 6.1) AppleWebKit/537.36 (KHTML, like Gecko) Chrome/41.0.2228.0 Safari/537.3'}\n",
        "reg_url = \"https://sofifa.com/players?type=all&lg%5B0%5D=13&offset=0\"\n",
        "req = Request(url=reg_url, headers=headers) \n",
        "html2 = urlopen(req)\n",
        "html_soup = BeautifulSoup(html2, 'html.parser')\n",
        "rows = html_soup.findAll(\"table\",class_=\"table table-hover persist-area\")\n",
        "body = rows[0].findAll(\"tbody\")\n",
        "trs = body[0].findAll(\"tr\")\n",
        "tds = trs[0].findAll(\"td\")\n",
        "\n",
        "refs = html_soup.findAll(\"img\")\n",
        "def liste_photo():\n",
        "  lien=[]\n",
        "  for ref in refs:\n",
        "    st = str(ref)\n",
        "    for s in range(len(st)):\n",
        "      t = st[s:s+9]\n",
        "      if (t==\"data-src=\"):\n",
        "        if (st[s+58]=='\"'):\n",
        "          lien.append(st[s+10:s+58])\n",
        "  return lien\n",
        "\n",
        "def liste_nom():\n",
        "  nom=[]\n",
        "  refs = html_soup.findAll(\"a\", class_=\"tooltip\")\n",
        "  for ref in refs:\n",
        "    nom.append(ref['data-tooltip'])\n",
        "  return nom\n",
        "\n",
        "def dico_nom_photo():\n",
        "  dic={}\n",
        "  photos=liste_photo()\n",
        "  noms=liste_nom()\n",
        "  for p in range(len(photos)):\n",
        "    dic[noms[p]]=photos[p]\n",
        "  return dic\n",
        "print(dico_nom_photo())\n"
      ],
      "execution_count": 175,
      "outputs": [
        {
          "output_type": "stream",
          "text": [
            "{'Virgil van Dijk': 'https://cdn.sofifa.com/players/203/376/20_60.png', 'Kevin De Bruyne': 'https://cdn.sofifa.com/players/192/985/20_60.png', 'Alisson Ramses Becker': 'https://cdn.sofifa.com/players/212/831/20_60.png', 'Mohamed Salah': 'https://cdn.sofifa.com/players/209/331/20_60.png', 'Sadio Mané': 'https://cdn.sofifa.com/players/208/722/20_60.png', 'Sergio Agüero': 'https://cdn.sofifa.com/players/153/079/20_60.png', \"N'Golo Kanté\": 'https://cdn.sofifa.com/players/215/914/20_60.png', 'Harry Kane': 'https://cdn.sofifa.com/players/202/126/20_60.png', 'Pierre-Emerick Aubameyang': 'https://cdn.sofifa.com/players/188/567/20_60.png', 'Roberto Firmino Barbosa de Oliveira': 'https://cdn.sofifa.com/players/201/942/20_60.png', 'Ederson Santana de Moraes': 'https://cdn.sofifa.com/players/210/257/20_60.png', 'Raheem Sterling': 'https://cdn.sofifa.com/players/202/652/20_60.png', 'David De Gea Quintana': 'https://cdn.sofifa.com/players/193/080/20_60.png', 'David Josué Jiménez Silva': 'https://cdn.sofifa.com/players/168/542/20_60.png', 'Aymeric Laporte': 'https://cdn.sofifa.com/players/212/218/20_60.png', 'Bernardo Mota Carvalho e Silva': 'https://cdn.sofifa.com/players/218/667/20_60.png', 'Paul Pogba': 'https://cdn.sofifa.com/players/195/864/20_60.png', 'Hugo Lloris': 'https://cdn.sofifa.com/players/167/948/20_60.png', 'Heung Min Son': 'https://cdn.sofifa.com/players/200/104/20_60.png', 'Andrew Robertson': 'https://cdn.sofifa.com/players/216/267/20_60.png', 'Fábio Henrique Tavares': 'https://cdn.sofifa.com/players/209/499/20_60.png', 'Leroy Sané': 'https://cdn.sofifa.com/players/222/492/20_60.png', 'Bruno Miguel Borges Fernandes': 'https://cdn.sofifa.com/players/212/198/20_60.png', 'Toby Alderweireld': 'https://cdn.sofifa.com/players/184/087/20_60.png', 'Jamie Vardy': 'https://cdn.sofifa.com/players/208/830/20_60.png', 'Bernd Leno': 'https://cdn.sofifa.com/players/192/563/20_60.png', 'Trent Alexander-Arnold': 'https://cdn.sofifa.com/players/231/281/20_60.png', 'Georginio Wijnaldum': 'https://cdn.sofifa.com/players/181/291/20_60.png', 'Jordan Henderson': 'https://cdn.sofifa.com/players/183/711/20_60.png', 'Fernando Luiz Rosa': 'https://cdn.sofifa.com/players/135/507/20_60.png', 'Rodrigo Hernández Cascante': 'https://cdn.sofifa.com/players/231/866/20_60.png', 'Riyad Mahrez': 'https://cdn.sofifa.com/players/204/485/20_60.png', 'Jan Vertonghen': 'https://cdn.sofifa.com/players/172/871/20_60.png', 'Alexandre Lacazette': 'https://cdn.sofifa.com/players/193/301/20_60.png', 'César Azpilicueta Tanco': 'https://cdn.sofifa.com/players/184/432/20_60.png', 'Luiz Frello Filho Jorge': 'https://cdn.sofifa.com/players/205/498/20_60.png', 'Mateo Kovačić': 'https://cdn.sofifa.com/players/207/410/20_60.png', 'İlkay Gündoğan': 'https://cdn.sofifa.com/players/186/942/20_60.png', 'Marcus Rashford': 'https://cdn.sofifa.com/players/231/677/20_60.png', 'Ricardo Barbosa Pereira': 'https://cdn.sofifa.com/players/210/243/20_60.png', 'Wilfred Ndidi': 'https://cdn.sofifa.com/players/226/790/20_60.png', 'João Filipe Moutinho': 'https://cdn.sofifa.com/players/162/347/20_60.png', 'Mesut Özil': 'https://cdn.sofifa.com/players/176/635/20_60.png', 'Kepa Arrizabalaga': 'https://cdn.sofifa.com/players/206/585/20_60.png', 'Lucas Digne': 'https://cdn.sofifa.com/players/200/458/20_60.png', 'Joel Matip': 'https://cdn.sofifa.com/players/197/061/20_60.png', 'Kyle Walker': 'https://cdn.sofifa.com/players/188/377/20_60.png', 'João Pedro Cavaco Cancelo': 'https://cdn.sofifa.com/players/210/514/20_60.png', 'Harry Maguire': 'https://cdn.sofifa.com/players/203/263/20_60.png', 'Anthony Martial': 'https://cdn.sofifa.com/players/211/300/20_60.png', 'Dele Alli': 'https://cdn.sofifa.com/players/211/117/20_60.png', 'Kasper Schmeichel': 'https://cdn.sofifa.com/players/163/587/20_60.png', 'Rui Pedro dos Santos Patrício': 'https://cdn.sofifa.com/players/178/005/20_60.png', 'Raúl Jiménez': 'https://cdn.sofifa.com/players/204/838/20_60.png', 'Wilfried Zaha': 'https://cdn.sofifa.com/players/198/717/20_60.png', 'Nicolas Pépé': 'https://cdn.sofifa.com/players/226/110/20_60.png', 'Antonio Rüdiger': 'https://cdn.sofifa.com/players/205/452/20_60.png', 'Willian Borges da Silva': 'https://cdn.sofifa.com/players/180/403/20_60.png', 'Joe Gomez': 'https://cdn.sofifa.com/players/225/100/20_60.png', 'Naby Keïta': 'https://cdn.sofifa.com/players/220/971/20_60.png'}\n"
          ],
          "name": "stdout"
        }
      ]
    }
  ]
}