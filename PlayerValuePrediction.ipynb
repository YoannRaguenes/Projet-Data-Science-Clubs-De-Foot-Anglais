{
  "nbformat": 4,
  "nbformat_minor": 0,
  "metadata": {
    "colab": {
      "name": "PlayerValuePrediction.ipynb",
      "provenance": [],
      "collapsed_sections": [],
      "authorship_tag": "ABX9TyOIoayVHzIKmlHbcBnj91ne",
      "include_colab_link": true
    },
    "kernelspec": {
      "name": "python3",
      "display_name": "Python 3"
    }
  },
  "cells": [
    {
      "cell_type": "markdown",
      "metadata": {
        "id": "view-in-github",
        "colab_type": "text"
      },
      "source": [
        "<a href=\"https://colab.research.google.com/github/YoannRaguenes/Projet-Data-Science-Clubs-De-Foot-Anglais/blob/master/PlayerValuePrediction.ipynb\" target=\"_parent\"><img src=\"https://colab.research.google.com/assets/colab-badge.svg\" alt=\"Open In Colab\"/></a>"
      ]
    },
    {
      "cell_type": "markdown",
      "metadata": {
        "id": "G9QtSzL8jIM0",
        "colab_type": "text"
      },
      "source": [
        "# Predicting the price of players based on their stats\n",
        "In this notebook we will establish a predictive model using scklearn. We are going to establish a decision tree from the database."
      ]
    },
    {
      "cell_type": "code",
      "metadata": {
        "id": "YlTH6Ak0x1CO",
        "colab_type": "code",
        "colab": {}
      },
      "source": [
        "import pandas as pd\n",
        "from sklearn.tree import DecisionTreeRegressor"
      ],
      "execution_count": 0,
      "outputs": []
    },
    {
      "cell_type": "markdown",
      "metadata": {
        "id": "ZDYHS2_Yj_nv",
        "colab_type": "text"
      },
      "source": [
        "We will make a simple example and we will only use numerical values from the database. To use other data as strings, we have to encode them. But we're not going to do that here"
      ]
    },
    {
      "cell_type": "code",
      "metadata": {
        "id": "8pg2kW5wx3Mt",
        "colab_type": "code",
        "colab": {}
      },
      "source": [
        "df = pd.read_csv('playersData.csv')\n",
        "df"
      ],
      "execution_count": 0,
      "outputs": []
    },
    {
      "cell_type": "markdown",
      "metadata": {
        "id": "dMquLYbekZg0",
        "colab_type": "text"
      },
      "source": [
        "First I determine my output values,but I must change the type.\n",
        "- Y_train is the output data using to build the tree\n",
        "- Y_test is the output data using to test the tree(the model)"
      ]
    },
    {
      "cell_type": "code",
      "metadata": {
        "id": "TY6h489U8Pax",
        "colab_type": "code",
        "colab": {}
      },
      "source": [
        "y= df['Value']\n",
        "Y=[]\n",
        "for i in range(len(y)):\n",
        "  if '.'in y[i]:\n",
        "    if y[i][-1]=='K':\n",
        "      Y.append(int(y[i][1:-3])*1000)\n",
        "    elif y[i][-1]=='M':\n",
        "      Y.append(int(y[i][1:-3])*1000000)\n",
        "    else:\n",
        "      Y.append(int(y[i][1:-2]))\n",
        "        \n",
        "  else :\n",
        "    if y[i][-1]=='K':\n",
        "      Y.append(int(y[i][1:-1])*1000)\n",
        "    elif y[i][-1]=='M':\n",
        "      Y.append(int(y[i][1:-1])*1000000)\n",
        "    else:\n",
        "      Y.append(int(y[i][1:]))\n",
        "\n",
        "Y_train=Y[:-10]\n",
        "Y_test = Y[len(Y)-10:]"
      ],
      "execution_count": 0,
      "outputs": []
    },
    {
      "cell_type": "markdown",
      "metadata": {
        "id": "sRJeftqHlVSG",
        "colab_type": "text"
      },
      "source": [
        "- X_train: the features used to predict the Value (Y) during the train\n",
        "- X_test: the features used to predict the Value (Y) during the test"
      ]
    },
    {
      "cell_type": "code",
      "metadata": {
        "id": "juaZKHbX3Py6",
        "colab_type": "code",
        "colab": {}
      },
      "source": [
        "X =df[['age',\n",
        " 'Overall_rating',\n",
        " 'Potential',\n",
        " 'Growth',\n",
        " 'PAC',\n",
        " 'SHO',\n",
        " 'PAS',\n",
        " 'DRI',\n",
        " 'DEF']]\n",
        "X_train = X[:-10]\n",
        "X_test = X[len(X)-10:]\n"
      ],
      "execution_count": 0,
      "outputs": []
    },
    {
      "cell_type": "markdown",
      "metadata": {
        "id": "5NXPRMfll7cB",
        "colab_type": "text"
      },
      "source": [
        "Define model. Specify a number for random_state to ensure same results each run"
      ]
    },
    {
      "cell_type": "code",
      "metadata": {
        "id": "fL-H6t0x37AL",
        "colab_type": "code",
        "colab": {
          "base_uri": "https://localhost:8080/",
          "height": 120
        },
        "outputId": "84dc4d24-4cf7-4d5b-c761-47236af0a1f6"
      },
      "source": [
        "value_model = DecisionTreeRegressor(random_state=1)\n",
        "# Fit model\n",
        "value_model.fit(X_train, Y_train)"
      ],
      "execution_count": 32,
      "outputs": [
        {
          "output_type": "execute_result",
          "data": {
            "text/plain": [
              "DecisionTreeRegressor(ccp_alpha=0.0, criterion='mse', max_depth=None,\n",
              "                      max_features=None, max_leaf_nodes=None,\n",
              "                      min_impurity_decrease=0.0, min_impurity_split=None,\n",
              "                      min_samples_leaf=1, min_samples_split=2,\n",
              "                      min_weight_fraction_leaf=0.0, presort='deprecated',\n",
              "                      random_state=1, splitter='best')"
            ]
          },
          "metadata": {
            "tags": []
          },
          "execution_count": 32
        }
      ]
    },
    {
      "cell_type": "code",
      "metadata": {
        "id": "cHjI0-fOM_pY",
        "colab_type": "code",
        "colab": {
          "base_uri": "https://localhost:8080/",
          "height": 276
        },
        "outputId": "ed8fd545-877d-4fa8-8446-2d3731d03fb4"
      },
      "source": [
        "print(\"Making predictions for the following 5 houses:\")\n",
        "print(X_test)\n",
        "print(\"The predictions are\")\n",
        "print(value_model.predict(X_test))"
      ],
      "execution_count": 33,
      "outputs": [
        {
          "output_type": "stream",
          "text": [
            "Making predictions for the following 5 houses:\n",
            "      age  Overall_rating  Potential  Growth  PAC  SHO  PAS  DRI  DEF\n",
            "2389   31              62         62       0   64   60   61   60   32\n",
            "2390   33              62         62       0   69   36   53   57   59\n",
            "2391   31              65         65       0   58   60   65   60   59\n",
            "2392   31              67         67       0   46   62   70   62   65\n",
            "2393   27              67         67       0   67   61   64   65   62\n",
            "2394   34              61         61       0   30   32   42   39   60\n",
            "2395   33              61         61       0   61   60   58   60   57\n",
            "2396   28              67         67       0   77   61   42   64   30\n",
            "2397   27              64         64       0   83   59   54   62   34\n",
            "2398   34              64         64       0   61   61   65   65   48\n",
            "The predictions are\n",
            "[200000. 190000. 500000. 550000. 675000. 100000. 140000. 800000. 475000.\n",
            " 120000.]\n"
          ],
          "name": "stdout"
        }
      ]
    },
    {
      "cell_type": "markdown",
      "metadata": {
        "id": "uZZjadYmmGDL",
        "colab_type": "text"
      },
      "source": [
        "Print the error beetween each result"
      ]
    },
    {
      "cell_type": "code",
      "metadata": {
        "id": "xE0jl3oFNMo4",
        "colab_type": "code",
        "colab": {
          "base_uri": "https://localhost:8080/",
          "height": 189
        },
        "outputId": "7b99df56-9847-4e54-af38-ed48e9f1478e"
      },
      "source": [
        "l=[]\n",
        "pred = value_model.predict(X_test)\n",
        "for i in range(len(Y_test)):\n",
        "  l.append(abs(Y_test[i] - pred[i]))\n",
        "l"
      ],
      "execution_count": 35,
      "outputs": [
        {
          "output_type": "execute_result",
          "data": {
            "text/plain": [
              "[10000.0,\n",
              " 50000.0,\n",
              " 25000.0,\n",
              " 25000.0,\n",
              " 100000.0,\n",
              " 10000.0,\n",
              " 0.0,\n",
              " 0.0,\n",
              " 0.0,\n",
              " 110000.0]"
            ]
          },
          "metadata": {
            "tags": []
          },
          "execution_count": 35
        }
      ]
    }
  ]
}