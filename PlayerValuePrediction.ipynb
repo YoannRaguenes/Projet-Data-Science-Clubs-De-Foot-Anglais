{
  "nbformat": 4,
  "nbformat_minor": 0,
  "metadata": {
    "colab": {
      "name": "PlayerValuePrediction.ipynb",
      "provenance": [],
      "collapsed_sections": [],
      "toc_visible": true,
      "authorship_tag": "ABX9TyM9kQ8FyYjYuC0S8OllJF8P",
      "include_colab_link": true
    },
    "kernelspec": {
      "name": "python3",
      "display_name": "Python 3"
    }
  },
  "cells": [
    {
      "cell_type": "markdown",
      "metadata": {
        "id": "view-in-github",
        "colab_type": "text"
      },
      "source": [
        "<a href=\"https://colab.research.google.com/github/YoannRaguenes/Projet-Data-Science-Clubs-De-Foot-Anglais/blob/master/PlayerValuePrediction.ipynb\" target=\"_parent\"><img src=\"https://colab.research.google.com/assets/colab-badge.svg\" alt=\"Open In Colab\"/></a>"
      ]
    },
    {
      "cell_type": "markdown",
      "metadata": {
        "id": "G9QtSzL8jIM0",
        "colab_type": "text"
      },
      "source": [
        "# Predicting the price of players with their stats\n",
        "In this notebook we will establish a predictive model using scklearn. We are going to establish a decision tree from the database."
      ]
    },
    {
      "cell_type": "code",
      "metadata": {
        "id": "YlTH6Ak0x1CO",
        "colab_type": "code",
        "colab": {}
      },
      "source": [
        "import pandas as pd\n",
        "from sklearn.tree import DecisionTreeRegressor"
      ],
      "execution_count": 0,
      "outputs": []
    },
    {
      "cell_type": "markdown",
      "metadata": {
        "id": "ZDYHS2_Yj_nv",
        "colab_type": "text"
      },
      "source": [
        "We will make a simple example and we will only use numerical values from the database. To use other data as strings, we have to encode them. But we're not going to do that here"
      ]
    },
    {
      "cell_type": "code",
      "metadata": {
        "id": "8pg2kW5wx3Mt",
        "colab_type": "code",
        "colab": {
          "base_uri": "https://localhost:8080/",
          "height": 674
        },
        "outputId": "5e1ef999-e769-44db-b301-40a90c03f744"
      },
      "source": [
        "df = pd.read_csv('playersData.csv')\n",
        "df"
      ],
      "execution_count": 11,
      "outputs": [
        {
          "output_type": "execute_result",
          "data": {
            "text/html": [
              "<div>\n",
              "<style scoped>\n",
              "    .dataframe tbody tr th:only-of-type {\n",
              "        vertical-align: middle;\n",
              "    }\n",
              "\n",
              "    .dataframe tbody tr th {\n",
              "        vertical-align: top;\n",
              "    }\n",
              "\n",
              "    .dataframe thead th {\n",
              "        text-align: right;\n",
              "    }\n",
              "</style>\n",
              "<table border=\"1\" class=\"dataframe\">\n",
              "  <thead>\n",
              "    <tr style=\"text-align: right;\">\n",
              "      <th></th>\n",
              "      <th>Unnamed: 0</th>\n",
              "      <th>name</th>\n",
              "      <th>age</th>\n",
              "      <th>Overall_rating</th>\n",
              "      <th>Potential</th>\n",
              "      <th>Team</th>\n",
              "      <th>Contract</th>\n",
              "      <th>Best_position</th>\n",
              "      <th>Growth</th>\n",
              "      <th>Value</th>\n",
              "      <th>Release_clause</th>\n",
              "      <th>PAC</th>\n",
              "      <th>SHO</th>\n",
              "      <th>PAS</th>\n",
              "      <th>DRI</th>\n",
              "      <th>DEF</th>\n",
              "      <th>PHY</th>\n",
              "      <th>Lien_photo</th>\n",
              "    </tr>\n",
              "  </thead>\n",
              "  <tbody>\n",
              "    <tr>\n",
              "      <th>0</th>\n",
              "      <td>0</td>\n",
              "      <td>Ricky-Jade Jones</td>\n",
              "      <td>16</td>\n",
              "      <td>59</td>\n",
              "      <td>84</td>\n",
              "      <td>Peterborough United</td>\n",
              "      <td>2019 ~ 2022</td>\n",
              "      <td>ST</td>\n",
              "      <td>25</td>\n",
              "      <td>€350K</td>\n",
              "      <td>€963K</td>\n",
              "      <td>92</td>\n",
              "      <td>56</td>\n",
              "      <td>50</td>\n",
              "      <td>58</td>\n",
              "      <td>27</td>\n",
              "      <td>56</td>\n",
              "      <td>https://cdn.sofifa.com/players/254/482/20_60.png</td>\n",
              "    </tr>\n",
              "    <tr>\n",
              "      <th>1</th>\n",
              "      <td>1</td>\n",
              "      <td>Nelson Agho</td>\n",
              "      <td>16</td>\n",
              "      <td>52</td>\n",
              "      <td>76</td>\n",
              "      <td>Port Vale</td>\n",
              "      <td>2018 ~ 2023</td>\n",
              "      <td>ST</td>\n",
              "      <td>24</td>\n",
              "      <td>€110K</td>\n",
              "      <td>€303K</td>\n",
              "      <td>76</td>\n",
              "      <td>48</td>\n",
              "      <td>34</td>\n",
              "      <td>47</td>\n",
              "      <td>17</td>\n",
              "      <td>67</td>\n",
              "      <td>https://cdn.sofifa.com/players/251/478/20_60.png</td>\n",
              "    </tr>\n",
              "    <tr>\n",
              "      <th>2</th>\n",
              "      <td>2</td>\n",
              "      <td>Armando Broja</td>\n",
              "      <td>17</td>\n",
              "      <td>61</td>\n",
              "      <td>84</td>\n",
              "      <td>Chelsea</td>\n",
              "      <td>2020 ~ 2022</td>\n",
              "      <td>ST</td>\n",
              "      <td>23</td>\n",
              "      <td>€550K</td>\n",
              "      <td>€1.6M</td>\n",
              "      <td>71</td>\n",
              "      <td>59</td>\n",
              "      <td>45</td>\n",
              "      <td>58</td>\n",
              "      <td>28</td>\n",
              "      <td>63</td>\n",
              "      <td>https://cdn.sofifa.com/players/256/268/20_60.png</td>\n",
              "    </tr>\n",
              "    <tr>\n",
              "      <th>3</th>\n",
              "      <td>3</td>\n",
              "      <td>Harvey Elliott</td>\n",
              "      <td>16</td>\n",
              "      <td>64</td>\n",
              "      <td>87</td>\n",
              "      <td>Liverpool</td>\n",
              "      <td>2019 ~ 2023</td>\n",
              "      <td>CAM</td>\n",
              "      <td>23</td>\n",
              "      <td>€975K</td>\n",
              "      <td>€2.8M</td>\n",
              "      <td>75</td>\n",
              "      <td>53</td>\n",
              "      <td>58</td>\n",
              "      <td>69</td>\n",
              "      <td>30</td>\n",
              "      <td>37</td>\n",
              "      <td>https://cdn.sofifa.com/players/246/174/20_60.png</td>\n",
              "    </tr>\n",
              "    <tr>\n",
              "      <th>4</th>\n",
              "      <td>4</td>\n",
              "      <td>Taylor Harwood-Bellis</td>\n",
              "      <td>17</td>\n",
              "      <td>60</td>\n",
              "      <td>83</td>\n",
              "      <td>Manchester City</td>\n",
              "      <td>2019 ~ 2021</td>\n",
              "      <td>CB</td>\n",
              "      <td>23</td>\n",
              "      <td>€425K</td>\n",
              "      <td>€1.2M</td>\n",
              "      <td>63</td>\n",
              "      <td>33</td>\n",
              "      <td>46</td>\n",
              "      <td>51</td>\n",
              "      <td>60</td>\n",
              "      <td>61</td>\n",
              "      <td>https://cdn.sofifa.com/players/252/793/20_60.png</td>\n",
              "    </tr>\n",
              "    <tr>\n",
              "      <th>...</th>\n",
              "      <td>...</td>\n",
              "      <td>...</td>\n",
              "      <td>...</td>\n",
              "      <td>...</td>\n",
              "      <td>...</td>\n",
              "      <td>...</td>\n",
              "      <td>...</td>\n",
              "      <td>...</td>\n",
              "      <td>...</td>\n",
              "      <td>...</td>\n",
              "      <td>...</td>\n",
              "      <td>...</td>\n",
              "      <td>...</td>\n",
              "      <td>...</td>\n",
              "      <td>...</td>\n",
              "      <td>...</td>\n",
              "      <td>...</td>\n",
              "      <td>...</td>\n",
              "    </tr>\n",
              "    <tr>\n",
              "      <th>2394</th>\n",
              "      <td>34</td>\n",
              "      <td>Nathan Pond</td>\n",
              "      <td>34</td>\n",
              "      <td>61</td>\n",
              "      <td>61</td>\n",
              "      <td>Salford City</td>\n",
              "      <td>2018 ~ 2020</td>\n",
              "      <td>CB</td>\n",
              "      <td>0</td>\n",
              "      <td>€90K</td>\n",
              "      <td>€158K</td>\n",
              "      <td>30</td>\n",
              "      <td>32</td>\n",
              "      <td>42</td>\n",
              "      <td>39</td>\n",
              "      <td>60</td>\n",
              "      <td>72</td>\n",
              "      <td>https://cdn.sofifa.com/players/209/277/20_60.png</td>\n",
              "    </tr>\n",
              "    <tr>\n",
              "      <th>2395</th>\n",
              "      <td>35</td>\n",
              "      <td>Chris Neal</td>\n",
              "      <td>33</td>\n",
              "      <td>61</td>\n",
              "      <td>61</td>\n",
              "      <td>Salford City</td>\n",
              "      <td>2018 ~ 2020</td>\n",
              "      <td>GK</td>\n",
              "      <td>0</td>\n",
              "      <td>€140K</td>\n",
              "      <td>€245K</td>\n",
              "      <td>61</td>\n",
              "      <td>60</td>\n",
              "      <td>58</td>\n",
              "      <td>60</td>\n",
              "      <td>57</td>\n",
              "      <td>61</td>\n",
              "      <td>https://cdn.sofifa.com/players/166/117/20_60.png</td>\n",
              "    </tr>\n",
              "    <tr>\n",
              "      <th>2396</th>\n",
              "      <td>36</td>\n",
              "      <td>Tom Elliott</td>\n",
              "      <td>28</td>\n",
              "      <td>67</td>\n",
              "      <td>67</td>\n",
              "      <td>Salford City</td>\n",
              "      <td>2020 ~ 2022</td>\n",
              "      <td>ST</td>\n",
              "      <td>0</td>\n",
              "      <td>€800K</td>\n",
              "      <td>€1.4M</td>\n",
              "      <td>77</td>\n",
              "      <td>61</td>\n",
              "      <td>42</td>\n",
              "      <td>64</td>\n",
              "      <td>30</td>\n",
              "      <td>79</td>\n",
              "      <td>https://cdn.sofifa.com/players/183/425/20_60.png</td>\n",
              "    </tr>\n",
              "    <tr>\n",
              "      <th>2397</th>\n",
              "      <td>37</td>\n",
              "      <td>Jake Jervis</td>\n",
              "      <td>27</td>\n",
              "      <td>64</td>\n",
              "      <td>64</td>\n",
              "      <td>Salford City</td>\n",
              "      <td>Jun 30, 2020 On Loan</td>\n",
              "      <td>RM</td>\n",
              "      <td>0</td>\n",
              "      <td>€475K</td>\n",
              "      <td>€ 0</td>\n",
              "      <td>83</td>\n",
              "      <td>59</td>\n",
              "      <td>54</td>\n",
              "      <td>62</td>\n",
              "      <td>34</td>\n",
              "      <td>72</td>\n",
              "      <td>https://cdn.sofifa.com/players/198/269/20_60.png</td>\n",
              "    </tr>\n",
              "    <tr>\n",
              "      <th>2398</th>\n",
              "      <td>38</td>\n",
              "      <td>Craig Conway</td>\n",
              "      <td>34</td>\n",
              "      <td>64</td>\n",
              "      <td>64</td>\n",
              "      <td>Salford City</td>\n",
              "      <td>2019 ~ 2020</td>\n",
              "      <td>RM</td>\n",
              "      <td>0</td>\n",
              "      <td>€230K</td>\n",
              "      <td>€403K</td>\n",
              "      <td>61</td>\n",
              "      <td>61</td>\n",
              "      <td>65</td>\n",
              "      <td>65</td>\n",
              "      <td>48</td>\n",
              "      <td>59</td>\n",
              "      <td>https://cdn.sofifa.com/players/139/609/20_60.png</td>\n",
              "    </tr>\n",
              "  </tbody>\n",
              "</table>\n",
              "<p>2399 rows × 18 columns</p>\n",
              "</div>"
            ],
            "text/plain": [
              "      Unnamed: 0  ...                                        Lien_photo\n",
              "0              0  ...  https://cdn.sofifa.com/players/254/482/20_60.png\n",
              "1              1  ...  https://cdn.sofifa.com/players/251/478/20_60.png\n",
              "2              2  ...  https://cdn.sofifa.com/players/256/268/20_60.png\n",
              "3              3  ...  https://cdn.sofifa.com/players/246/174/20_60.png\n",
              "4              4  ...  https://cdn.sofifa.com/players/252/793/20_60.png\n",
              "...          ...  ...                                               ...\n",
              "2394          34  ...  https://cdn.sofifa.com/players/209/277/20_60.png\n",
              "2395          35  ...  https://cdn.sofifa.com/players/166/117/20_60.png\n",
              "2396          36  ...  https://cdn.sofifa.com/players/183/425/20_60.png\n",
              "2397          37  ...  https://cdn.sofifa.com/players/198/269/20_60.png\n",
              "2398          38  ...  https://cdn.sofifa.com/players/139/609/20_60.png\n",
              "\n",
              "[2399 rows x 18 columns]"
            ]
          },
          "metadata": {
            "tags": []
          },
          "execution_count": 11
        }
      ]
    },
    {
      "cell_type": "markdown",
      "metadata": {
        "id": "dMquLYbekZg0",
        "colab_type": "text"
      },
      "source": [
        "First I determine my output values,but I must change the type.\n",
        "- Y_train is the output data using to build the tree\n",
        "- Y_test is the output data using to test the tree(the model)"
      ]
    },
    {
      "cell_type": "code",
      "metadata": {
        "id": "TY6h489U8Pax",
        "colab_type": "code",
        "colab": {}
      },
      "source": [
        "y= df['Value']\n",
        "Y=[]\n",
        "for i in range(len(y)):\n",
        "  if '.'in y[i]:\n",
        "    if y[i][-1]=='K':\n",
        "      Y.append(int(y[i][1:-3])*1000)\n",
        "    elif y[i][-1]=='M':\n",
        "      Y.append(int(y[i][1:-3])*1000000)\n",
        "    else:\n",
        "      Y.append(int(y[i][1:-2]))\n",
        "        \n",
        "  else :\n",
        "    if y[i][-1]=='K':\n",
        "      Y.append(int(y[i][1:-1])*1000)\n",
        "    elif y[i][-1]=='M':\n",
        "      Y.append(int(y[i][1:-1])*1000000)\n",
        "    else:\n",
        "      Y.append(int(y[i][1:]))\n",
        "\n",
        "Y_train=Y[:-10]\n",
        "Y_test = Y[len(Y)-10:]"
      ],
      "execution_count": 0,
      "outputs": []
    },
    {
      "cell_type": "markdown",
      "metadata": {
        "id": "sRJeftqHlVSG",
        "colab_type": "text"
      },
      "source": [
        "- X_train: the features used to predict the Value (Y) during the train\n",
        "- X_test: the features used to predict the Value (Y) during the test"
      ]
    },
    {
      "cell_type": "code",
      "metadata": {
        "id": "juaZKHbX3Py6",
        "colab_type": "code",
        "colab": {}
      },
      "source": [
        "X =df[['age',\n",
        " 'Overall_rating',\n",
        " 'Potential',\n",
        " 'Growth',\n",
        " 'PAC',\n",
        " 'SHO',\n",
        " 'PAS',\n",
        " 'DRI',\n",
        " 'DEF']]\n",
        "X_train = X[:-10]\n",
        "X_test = X[len(X)-10:]\n"
      ],
      "execution_count": 0,
      "outputs": []
    },
    {
      "cell_type": "markdown",
      "metadata": {
        "id": "5NXPRMfll7cB",
        "colab_type": "text"
      },
      "source": [
        "Define model. Specify a number for random_state to ensure same results each run"
      ]
    },
    {
      "cell_type": "code",
      "metadata": {
        "id": "fL-H6t0x37AL",
        "colab_type": "code",
        "outputId": "c5cc8b53-14ef-4d95-adf3-0f354812dac4",
        "colab": {
          "base_uri": "https://localhost:8080/",
          "height": 120
        }
      },
      "source": [
        "value_model = DecisionTreeRegressor(random_state=1)\n",
        "# Fit model\n",
        "value_model.fit(X_train, Y_train)"
      ],
      "execution_count": 14,
      "outputs": [
        {
          "output_type": "execute_result",
          "data": {
            "text/plain": [
              "DecisionTreeRegressor(ccp_alpha=0.0, criterion='mse', max_depth=None,\n",
              "                      max_features=None, max_leaf_nodes=None,\n",
              "                      min_impurity_decrease=0.0, min_impurity_split=None,\n",
              "                      min_samples_leaf=1, min_samples_split=2,\n",
              "                      min_weight_fraction_leaf=0.0, presort='deprecated',\n",
              "                      random_state=1, splitter='best')"
            ]
          },
          "metadata": {
            "tags": []
          },
          "execution_count": 14
        }
      ]
    },
    {
      "cell_type": "code",
      "metadata": {
        "id": "cHjI0-fOM_pY",
        "colab_type": "code",
        "outputId": "01accbf9-7911-4548-e71e-305a30b83131",
        "colab": {
          "base_uri": "https://localhost:8080/",
          "height": 275
        }
      },
      "source": [
        "print(\"Making predictions:\")\n",
        "print(X_test)\n",
        "print(\"The predictions are\")\n",
        "print(value_model.predict(X_test))"
      ],
      "execution_count": 15,
      "outputs": [
        {
          "output_type": "stream",
          "text": [
            "Making predictions:\n",
            "      age  Overall_rating  Potential  Growth  PAC  SHO  PAS  DRI  DEF\n",
            "2389   31              62         62       0   64   60   61   60   32\n",
            "2390   33              62         62       0   69   36   53   57   59\n",
            "2391   31              65         65       0   58   60   65   60   59\n",
            "2392   31              67         67       0   46   62   70   62   65\n",
            "2393   27              67         67       0   67   61   64   65   62\n",
            "2394   34              61         61       0   30   32   42   39   60\n",
            "2395   33              61         61       0   61   60   58   60   57\n",
            "2396   28              67         67       0   77   61   42   64   30\n",
            "2397   27              64         64       0   83   59   54   62   34\n",
            "2398   34              64         64       0   61   61   65   65   48\n",
            "The predictions are\n",
            "[200000. 190000. 500000. 550000. 675000. 100000. 140000. 800000. 475000.\n",
            " 120000.]\n"
          ],
          "name": "stdout"
        }
      ]
    },
    {
      "cell_type": "markdown",
      "metadata": {
        "id": "uZZjadYmmGDL",
        "colab_type": "text"
      },
      "source": [
        "Print the error beetween each result"
      ]
    },
    {
      "cell_type": "code",
      "metadata": {
        "id": "xE0jl3oFNMo4",
        "colab_type": "code",
        "outputId": "4d093c0d-b37e-4ce3-fdf2-cd6bebb32323",
        "colab": {
          "base_uri": "https://localhost:8080/",
          "height": 189
        }
      },
      "source": [
        "l=[]\n",
        "pred = value_model.predict(X_test)\n",
        "for i in range(len(Y_test)):\n",
        "  l.append(abs(Y_test[i] - pred[i]))\n",
        "l"
      ],
      "execution_count": 16,
      "outputs": [
        {
          "output_type": "execute_result",
          "data": {
            "text/plain": [
              "[10000.0,\n",
              " 50000.0,\n",
              " 25000.0,\n",
              " 25000.0,\n",
              " 100000.0,\n",
              " 10000.0,\n",
              " 0.0,\n",
              " 0.0,\n",
              " 0.0,\n",
              " 110000.0]"
            ]
          },
          "metadata": {
            "tags": []
          },
          "execution_count": 16
        }
      ]
    }
  ]
}