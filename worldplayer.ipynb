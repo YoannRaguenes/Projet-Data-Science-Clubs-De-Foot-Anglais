{
  "nbformat": 4,
  "nbformat_minor": 0,
  "metadata": {
    "colab": {
      "name": "worldplayer",
      "provenance": [],
      "collapsed_sections": []
    },
    "kernelspec": {
      "name": "python3",
      "display_name": "Python 3"
    }
  },
  "cells": [
    {
      "cell_type": "markdown",
      "metadata": {
        "id": "GjO47EBoPhJP",
        "colab_type": "text"
      },
      "source": [
        "# Player Dataset\n",
        "The purpose of this code is to create a dataset of almost all professional football players.\n",
        "We will catch the data from websites:\n",
        "https://fbref.com\n",
        "we are going to use the library Beautifulsoup in order to collect informations on the website."
      ]
    },
    {
      "cell_type": "code",
      "metadata": {
        "id": "swXpQuqjiOGS",
        "colab_type": "code",
        "colab": {}
      },
      "source": [
        "from urllib.request import urlopen\n",
        "from bs4 import BeautifulSoup\n",
        "from bs4 import Comment\n",
        "import pandas as pd\n",
        "from bs4.element import Tag "
      ],
      "execution_count": 0,
      "outputs": []
    },
    {
      "cell_type": "markdown",
      "metadata": {
        "id": "9OQZIsJ2QGjs",
        "colab_type": "text"
      },
      "source": [
        "We define our function, the goal of this function is to create a dataframe with some stats about the players.\n",
        "The shape of the html code is the same for each page, there are tables with the stats for each player in the league.\n",
        "\n",
        "\n",
        "\n",
        "\n"
      ]
    },
    {
      "cell_type": "code",
      "metadata": {
        "id": "gQI_ovPtW_XP",
        "colab_type": "code",
        "colab": {}
      },
      "source": [
        "def getPlayers(Html,div):\n",
        "  html = urlopen(Html)\n",
        "  html_soup = BeautifulSoup(html, 'html.parser')\n",
        "  rows = html_soup.findAll(\"div\",id=\"all_stats_standard\")\n",
        "  comments =rows[0].findAll(string=lambda text: isinstance(text, Comment))\n",
        "  for c in comments:\n",
        "    c.extract()\n",
        "\n",
        "  sp = BeautifulSoup(c, 'html.parser')\n",
        "  l = sp.table.tbody.findAll(\"tr\")\n",
        "  players = []\n",
        "  for row in range(len(l)):\n",
        "    if l[row].a!=None :\n",
        "      player4 = {\n",
        "                  \"name\": l[row].a.text,\n",
        "                  \"Nation\": l[row].findAll(\"td\",class_=\"left\")[1].text,\n",
        "                  \"Pos\": l[row].findAll(\"td\",class_=\"center\")[0].text,\n",
        "                  \"Squad\": l[row].findAll(\"td\",class_=\"left\")[2].text,\n",
        "                 \"division\": div,\n",
        "                  \"Age\": l[row].findAll(\"td\",class_=\"center\")[1].text,\n",
        "                  \"Born\": l[row].findAll(\"td\",class_=\"center\")[2].text,\n",
        "               \"MP\" : l[row].findAll(\"td\",class_=\"right\")[0].text,\n",
        "               \"Starts\" : l[row].findAll(\"td\",class_=\"right\")[1].text,\n",
        "               \"Min\" : l[row].findAll(\"td\",class_=\"right\")[2].text,\n",
        "               \"Gls\" : l[row].findAll(\"td\",class_=\"right\")[3].text,\n",
        "               \"Ast\" : l[row].findAll(\"td\",class_=\"right\")[4].text,\n",
        "               \"PK\" : l[row].findAll(\"td\",class_=\"right\")[5].text,\n",
        "               \"PKatt\" : l[row].findAll(\"td\",class_=\"right\")[6].text,\n",
        "               \"CrdY\" : l[row].findAll(\"td\",class_=\"right\")[7].text,\n",
        "               \"CrdR\" : l[row].findAll(\"td\",class_=\"right\")[8].text,\n",
        "               \"Gls/90\" : l[row].findAll(\"td\",class_=\"right\")[9].text,\n",
        "               \"Ast/90\" : l[row].findAll(\"td\",class_=\"right\")[10].text,\n",
        "               \"G+A\" : l[row].findAll(\"td\",class_=\"right\")[11].text,\n",
        "               \"G-PK\" : l[row].findAll(\"td\",class_=\"right\")[12].text,\n",
        "               \"G+A-PK\" : l[row].findAll(\"td\",class_=\"right\")[13].text,\n",
        "              }\n",
        "      players.append(player4)\n",
        "  return players\n"
      ],
      "execution_count": 0,
      "outputs": []
    },
    {
      "cell_type": "markdown",
      "metadata": {
        "id": "mVD8_pUNYag9",
        "colab_type": "text"
      },
      "source": [
        "We use the function for the different leagues"
      ]
    },
    {
      "cell_type": "code",
      "metadata": {
        "id": "PYSM2jNRid_3",
        "colab_type": "code",
        "colab": {}
      },
      "source": [
        "#england\n",
        "df1 = pd.DataFrame(getPlayers(\"https://fbref.com/en/comps/9/stats/Premier-League-Stats\",1))\n",
        "df2 = pd.DataFrame(getPlayers(\"https://fbref.com/en/comps/10/stats/Championship-Stats\",2))\n",
        "df3 = pd.DataFrame(getPlayers(\"https://fbref.com/en/comps/15/stats/League-One-Stats\",3))\n",
        "df4 = pd.DataFrame(getPlayers(\"https://fbref.com/en/comps/16/stats/League-Two-Stats\",4))\n",
        "df5 = pd.DataFrame(getPlayers(\"https://fbref.com/en/comps/34/stats/National-League-Stats\",5))\n",
        "tot = pd.concat([df1,df2,df3,df4,df5])\n",
        "tot[1:-1].to_csv(\"ENplayers.csv\", encoding=\"utf-8-sig\")\n"
      ],
      "execution_count": 0,
      "outputs": []
    },
    {
      "cell_type": "code",
      "metadata": {
        "id": "J3NiAV_Sm9st",
        "colab_type": "code",
        "colab": {}
      },
      "source": [
        "#deutch\n",
        "df12 = pd.DataFrame(getPlayers(\"https://fbref.com/en/comps/12/stats/La-Liga-Stats\",1))\n",
        "df22 = pd.DataFrame(getPlayers(\"https://fbref.com/en/comps/17/stats/La-Liga-2-Stats\",2))\n",
        "df13 = pd.DataFrame(getPlayers(\"https://fbref.com/en/comps/20/stats/Bundesliga-Stats\",1))\n",
        "df23 = pd.DataFrame(getPlayers(\"https://fbref.com/en/comps/33/stats/2-Bundesliga-Stats\",2))\n",
        "df33 = pd.DataFrame(getPlayers(\"https://fbref.com/en/comps/59/stats/3-Liga-Stats\",3))\n",
        "dfy3 = pd.DataFrame(getPlayers(\"https://fbref.com/en/comps/850/stats/U19-Bundesliga-Stats\",\"U19\"))"
      ],
      "execution_count": 0,
      "outputs": []
    },
    {
      "cell_type": "code",
      "metadata": {
        "id": "0YcZRwnWtnM5",
        "colab_type": "code",
        "colab": {}
      },
      "source": [
        "#france\n",
        "df14 = pd.DataFrame(getPlayers(\"https://fbref.com/en/comps/13/stats/Ligue-1-Stats\",1))\n",
        "df24 = pd.DataFrame(getPlayers(\"https://fbref.com/en/comps/60/stats/Ligue-2-Stats\",2))"
      ],
      "execution_count": 0,
      "outputs": []
    },
    {
      "cell_type": "code",
      "metadata": {
        "id": "IPu3k15iuJmF",
        "colab_type": "code",
        "colab": {}
      },
      "source": [
        "#italia\n",
        "df15 = pd.DataFrame(getPlayers(\"https://fbref.com/en/comps/11/stats/Serie-A-Stats\",1))\n",
        "df25 = pd.DataFrame(getPlayers(\"https://fbref.com/en/comps/18/stats/Serie-B-Stats\",2))"
      ],
      "execution_count": 0,
      "outputs": []
    },
    {
      "cell_type": "code",
      "metadata": {
        "id": "7RmFYbHWuduS",
        "colab_type": "code",
        "colab": {}
      },
      "source": [
        "#Argentine\n",
        "df16 = pd.DataFrame(getPlayers(\"https://fbref.com/en/comps/21/stats/Superliga-Argentina-Stats\",\"1 arg\"))\n",
        "#austria\n",
        "df27 = pd.DataFrame(getPlayers(\"https://fbref.com/en/comps/56/stats/Austrian-Bundesliga-Stats\",\"1 austria\"))\n",
        "#brasil\n",
        "df18 = pd.DataFrame(getPlayers(\"https://fbref.com/en/comps/24/stats/Serie-A-Stats\",1))\n",
        "df28 = pd.DataFrame(getPlayers(\"https://fbref.com/en/comps/38/stats/Serie-B-Stats\",2 ))\n"
      ],
      "execution_count": 0,
      "outputs": []
    },
    {
      "cell_type": "markdown",
      "metadata": {
        "id": "-mkRlC7yYxRH",
        "colab_type": "text"
      },
      "source": [
        "We concatenate all the dataframe "
      ]
    },
    {
      "cell_type": "code",
      "metadata": {
        "id": "CmuhyM9amJJD",
        "colab_type": "code",
        "colab": {}
      },
      "source": [
        "tot = pd.concat([df1,df2,df3,df4,df5,df12,df22,df13,df23,df14,df24,df15,df25,df16,df27,df18,df28])"
      ],
      "execution_count": 0,
      "outputs": []
    },
    {
      "cell_type": "markdown",
      "metadata": {
        "id": "3VTC7E8pY56J",
        "colab_type": "text"
      },
      "source": [
        "Create a csv file"
      ]
    },
    {
      "cell_type": "code",
      "metadata": {
        "id": "Y5rV9Dkq11ea",
        "colab_type": "code",
        "colab": {}
      },
      "source": [
        "tot[1:-1].to_csv(\"worldplayers.csv\", encoding=\"utf-8-sig\")"
      ],
      "execution_count": 0,
      "outputs": []
    },
    {
      "cell_type": "markdown",
      "metadata": {
        "id": "J1fO3VsTvus8",
        "colab_type": "text"
      },
      "source": [
        "Delete \",\" in csv and create new csv without ','"
      ]
    },
    {
      "cell_type": "code",
      "metadata": {
        "id": "4tGZfIB8vu__",
        "colab_type": "code",
        "colab": {}
      },
      "source": [
        "\n",
        "df = pd.read_csv('worldplayers.csv')\n",
        "\n",
        "\n",
        "df['Min'] = df['Min'].str.replace(',','').astype(float)\n",
        "df.to_csv(\"worldplayer.csv\", encoding=\"utf-8-sig\")\n",
        "\n"
      ],
      "execution_count": 0,
      "outputs": []
    },
    {
      "cell_type": "markdown",
      "metadata": {
        "id": "DejftxXCvrNK",
        "colab_type": "text"
      },
      "source": [
        "Read a csv\n",
        " file"
      ]
    },
    {
      "cell_type": "code",
      "metadata": {
        "id": "MRsb3ZaYylDs",
        "colab_type": "code",
        "colab": {}
      },
      "source": [
        "df = pd.read_csv('worldplayer.csv')"
      ],
      "execution_count": 0,
      "outputs": []
    },
    {
      "cell_type": "markdown",
      "metadata": {
        "id": "myAYmwM6ZPr3",
        "colab_type": "text"
      },
      "source": [
        "Now we can do some requests and analysis with this dataframe.\n"
      ]
    },
    {
      "cell_type": "code",
      "metadata": {
        "id": "-e5m5KRnYm1x",
        "colab_type": "code",
        "colab": {
          "base_uri": "https://localhost:8080/",
          "height": 558
        },
        "outputId": "7914f1ec-20e0-42a9-8ae6-e7cac006263f"
      },
      "source": [
        "R1=df.loc[ (df['Age']<=20) & (df['Min']<=1200)]\n",
        "R2 = df.sort_values(by=[\"Gls\"]).tail(30)\n",
        "R3 = df.loc[(df['Age']<21)].tail(10)\n",
        "R4 = df.loc[(df['Pos']== 'MF')&(df['Ast']>=7) & (df['Gls']>=4)].sort_values(by=[\"G+A\"])\n",
        "R1"
      ],
      "execution_count": 122,
      "outputs": [
        {
          "output_type": "execute_result",
          "data": {
            "text/html": [
              "<div>\n",
              "<style scoped>\n",
              "    .dataframe tbody tr th:only-of-type {\n",
              "        vertical-align: middle;\n",
              "    }\n",
              "\n",
              "    .dataframe tbody tr th {\n",
              "        vertical-align: top;\n",
              "    }\n",
              "\n",
              "    .dataframe thead th {\n",
              "        text-align: right;\n",
              "    }\n",
              "</style>\n",
              "<table border=\"1\" class=\"dataframe\">\n",
              "  <thead>\n",
              "    <tr style=\"text-align: right;\">\n",
              "      <th></th>\n",
              "      <th>Unnamed: 0</th>\n",
              "      <th>name</th>\n",
              "      <th>Nation</th>\n",
              "      <th>Pos</th>\n",
              "      <th>Squad</th>\n",
              "      <th>division</th>\n",
              "      <th>Age</th>\n",
              "      <th>Born</th>\n",
              "      <th>MP</th>\n",
              "      <th>Starts</th>\n",
              "      <th>Min</th>\n",
              "      <th>Gls</th>\n",
              "      <th>Ast</th>\n",
              "      <th>PK</th>\n",
              "      <th>PKatt</th>\n",
              "      <th>CrdY</th>\n",
              "      <th>CrdR</th>\n",
              "      <th>Gls/90</th>\n",
              "      <th>Ast/90</th>\n",
              "      <th>G+A</th>\n",
              "      <th>G-PK</th>\n",
              "      <th>G+A-PK</th>\n",
              "    </tr>\n",
              "  </thead>\n",
              "  <tbody>\n",
              "    <tr>\n",
              "      <th>14</th>\n",
              "      <td>15</td>\n",
              "      <td>Steven Alzate</td>\n",
              "      <td>co COL</td>\n",
              "      <td>MF,DF</td>\n",
              "      <td>Brighton</td>\n",
              "      <td>1</td>\n",
              "      <td>20.0</td>\n",
              "      <td>1998.0</td>\n",
              "      <td>19</td>\n",
              "      <td>12</td>\n",
              "      <td>1183.0</td>\n",
              "      <td>0</td>\n",
              "      <td>0.0</td>\n",
              "      <td>0</td>\n",
              "      <td>0</td>\n",
              "      <td>1</td>\n",
              "      <td>0</td>\n",
              "      <td>0.00</td>\n",
              "      <td>0.0</td>\n",
              "      <td>0.00</td>\n",
              "      <td>0.00</td>\n",
              "      <td>0.00</td>\n",
              "    </tr>\n",
              "    <tr>\n",
              "      <th>19</th>\n",
              "      <td>20</td>\n",
              "      <td>Faustino Anjorin</td>\n",
              "      <td>eng ENG</td>\n",
              "      <td>FW</td>\n",
              "      <td>Chelsea</td>\n",
              "      <td>1</td>\n",
              "      <td>17.0</td>\n",
              "      <td>2001.0</td>\n",
              "      <td>1</td>\n",
              "      <td>0</td>\n",
              "      <td>19.0</td>\n",
              "      <td>0</td>\n",
              "      <td>0.0</td>\n",
              "      <td>0</td>\n",
              "      <td>0</td>\n",
              "      <td>0</td>\n",
              "      <td>0</td>\n",
              "      <td>0.00</td>\n",
              "      <td>0.0</td>\n",
              "      <td>0.00</td>\n",
              "      <td>0.00</td>\n",
              "      <td>0.00</td>\n",
              "    </tr>\n",
              "    <tr>\n",
              "      <th>59</th>\n",
              "      <td>60</td>\n",
              "      <td>Armando Broja</td>\n",
              "      <td>al ALB</td>\n",
              "      <td>FW</td>\n",
              "      <td>Chelsea</td>\n",
              "      <td>1</td>\n",
              "      <td>17.0</td>\n",
              "      <td>2001.0</td>\n",
              "      <td>1</td>\n",
              "      <td>0</td>\n",
              "      <td>4.0</td>\n",
              "      <td>0</td>\n",
              "      <td>0.0</td>\n",
              "      <td>0</td>\n",
              "      <td>0</td>\n",
              "      <td>0</td>\n",
              "      <td>0</td>\n",
              "      <td>0.00</td>\n",
              "      <td>0.0</td>\n",
              "      <td>0.00</td>\n",
              "      <td>0.00</td>\n",
              "      <td>0.00</td>\n",
              "    </tr>\n",
              "    <tr>\n",
              "      <th>78</th>\n",
              "      <td>79</td>\n",
              "      <td>Tahith Chong</td>\n",
              "      <td>nl NED</td>\n",
              "      <td>FW,MF</td>\n",
              "      <td>Manchester Utd</td>\n",
              "      <td>1</td>\n",
              "      <td>19.0</td>\n",
              "      <td>1999.0</td>\n",
              "      <td>3</td>\n",
              "      <td>0</td>\n",
              "      <td>34.0</td>\n",
              "      <td>0</td>\n",
              "      <td>0.0</td>\n",
              "      <td>0</td>\n",
              "      <td>0</td>\n",
              "      <td>0</td>\n",
              "      <td>0</td>\n",
              "      <td>0.00</td>\n",
              "      <td>0.0</td>\n",
              "      <td>0.00</td>\n",
              "      <td>0.00</td>\n",
              "      <td>0.00</td>\n",
              "    </tr>\n",
              "    <tr>\n",
              "      <th>86</th>\n",
              "      <td>87</td>\n",
              "      <td>Aaron Connolly</td>\n",
              "      <td>ie IRL</td>\n",
              "      <td>FW</td>\n",
              "      <td>Brighton</td>\n",
              "      <td>1</td>\n",
              "      <td>19.0</td>\n",
              "      <td>2000.0</td>\n",
              "      <td>17</td>\n",
              "      <td>9</td>\n",
              "      <td>834.0</td>\n",
              "      <td>2</td>\n",
              "      <td>0.0</td>\n",
              "      <td>0</td>\n",
              "      <td>0</td>\n",
              "      <td>0</td>\n",
              "      <td>0</td>\n",
              "      <td>0.22</td>\n",
              "      <td>0.0</td>\n",
              "      <td>0.22</td>\n",
              "      <td>0.22</td>\n",
              "      <td>0.22</td>\n",
              "    </tr>\n",
              "    <tr>\n",
              "      <th>...</th>\n",
              "      <td>...</td>\n",
              "      <td>...</td>\n",
              "      <td>...</td>\n",
              "      <td>...</td>\n",
              "      <td>...</td>\n",
              "      <td>...</td>\n",
              "      <td>...</td>\n",
              "      <td>...</td>\n",
              "      <td>...</td>\n",
              "      <td>...</td>\n",
              "      <td>...</td>\n",
              "      <td>...</td>\n",
              "      <td>...</td>\n",
              "      <td>...</td>\n",
              "      <td>...</td>\n",
              "      <td>...</td>\n",
              "      <td>...</td>\n",
              "      <td>...</td>\n",
              "      <td>...</td>\n",
              "      <td>...</td>\n",
              "      <td>...</td>\n",
              "      <td>...</td>\n",
              "    </tr>\n",
              "    <tr>\n",
              "      <th>10052</th>\n",
              "      <td>750</td>\n",
              "      <td>Wellissol</td>\n",
              "      <td>br BRA</td>\n",
              "      <td>MF</td>\n",
              "      <td>Coritiba</td>\n",
              "      <td>2</td>\n",
              "      <td>20.0</td>\n",
              "      <td>1998.0</td>\n",
              "      <td>10</td>\n",
              "      <td>2</td>\n",
              "      <td>229.0</td>\n",
              "      <td>0</td>\n",
              "      <td>0.0</td>\n",
              "      <td>0</td>\n",
              "      <td>0</td>\n",
              "      <td>0</td>\n",
              "      <td>0</td>\n",
              "      <td>0.00</td>\n",
              "      <td>0.0</td>\n",
              "      <td>0.00</td>\n",
              "      <td>0.00</td>\n",
              "      <td>0.00</td>\n",
              "    </tr>\n",
              "    <tr>\n",
              "      <th>10053</th>\n",
              "      <td>751</td>\n",
              "      <td>Wellisson</td>\n",
              "      <td>br BRA</td>\n",
              "      <td>DF</td>\n",
              "      <td>Vitória</td>\n",
              "      <td>2</td>\n",
              "      <td>19.0</td>\n",
              "      <td>1999.0</td>\n",
              "      <td>1</td>\n",
              "      <td>0</td>\n",
              "      <td>8.0</td>\n",
              "      <td>0</td>\n",
              "      <td>0.0</td>\n",
              "      <td>0</td>\n",
              "      <td>0</td>\n",
              "      <td>0</td>\n",
              "      <td>0</td>\n",
              "      <td>0.00</td>\n",
              "      <td>0.0</td>\n",
              "      <td>0.00</td>\n",
              "      <td>0.00</td>\n",
              "      <td>0.00</td>\n",
              "    </tr>\n",
              "    <tr>\n",
              "      <th>10054</th>\n",
              "      <td>752</td>\n",
              "      <td>Welliton</td>\n",
              "      <td>br BRA</td>\n",
              "      <td>MF</td>\n",
              "      <td>Oeste</td>\n",
              "      <td>2</td>\n",
              "      <td>18.0</td>\n",
              "      <td>2000.0</td>\n",
              "      <td>6</td>\n",
              "      <td>2</td>\n",
              "      <td>178.0</td>\n",
              "      <td>0</td>\n",
              "      <td>0.0</td>\n",
              "      <td>0</td>\n",
              "      <td>0</td>\n",
              "      <td>0</td>\n",
              "      <td>0</td>\n",
              "      <td>0.00</td>\n",
              "      <td>0.0</td>\n",
              "      <td>0.00</td>\n",
              "      <td>0.00</td>\n",
              "      <td>0.00</td>\n",
              "    </tr>\n",
              "    <tr>\n",
              "      <th>10060</th>\n",
              "      <td>758</td>\n",
              "      <td>Willian</td>\n",
              "      <td>br BRA</td>\n",
              "      <td>DF</td>\n",
              "      <td>Cuiabá</td>\n",
              "      <td>2</td>\n",
              "      <td>19.0</td>\n",
              "      <td>1999.0</td>\n",
              "      <td>1</td>\n",
              "      <td>1</td>\n",
              "      <td>90.0</td>\n",
              "      <td>0</td>\n",
              "      <td>0.0</td>\n",
              "      <td>0</td>\n",
              "      <td>0</td>\n",
              "      <td>0</td>\n",
              "      <td>0</td>\n",
              "      <td>0.00</td>\n",
              "      <td>0.0</td>\n",
              "      <td>0.00</td>\n",
              "      <td>0.00</td>\n",
              "      <td>0.00</td>\n",
              "    </tr>\n",
              "    <tr>\n",
              "      <th>10062</th>\n",
              "      <td>760</td>\n",
              "      <td>Lucas Willians</td>\n",
              "      <td>br BRA</td>\n",
              "      <td>GK</td>\n",
              "      <td>Vitória</td>\n",
              "      <td>2</td>\n",
              "      <td>20.0</td>\n",
              "      <td>1998.0</td>\n",
              "      <td>1</td>\n",
              "      <td>1</td>\n",
              "      <td>90.0</td>\n",
              "      <td>0</td>\n",
              "      <td>0.0</td>\n",
              "      <td>0</td>\n",
              "      <td>0</td>\n",
              "      <td>0</td>\n",
              "      <td>0</td>\n",
              "      <td>0.00</td>\n",
              "      <td>0.0</td>\n",
              "      <td>0.00</td>\n",
              "      <td>0.00</td>\n",
              "      <td>0.00</td>\n",
              "    </tr>\n",
              "  </tbody>\n",
              "</table>\n",
              "<p>1197 rows × 22 columns</p>\n",
              "</div>"
            ],
            "text/plain": [
              "       Unnamed: 0              name   Nation    Pos  ... Ast/90   G+A  G-PK  G+A-PK\n",
              "14             15     Steven Alzate   co COL  MF,DF  ...    0.0  0.00  0.00    0.00\n",
              "19             20  Faustino Anjorin  eng ENG     FW  ...    0.0  0.00  0.00    0.00\n",
              "59             60     Armando Broja   al ALB     FW  ...    0.0  0.00  0.00    0.00\n",
              "78             79      Tahith Chong   nl NED  FW,MF  ...    0.0  0.00  0.00    0.00\n",
              "86             87    Aaron Connolly   ie IRL     FW  ...    0.0  0.22  0.22    0.22\n",
              "...           ...               ...      ...    ...  ...    ...   ...   ...     ...\n",
              "10052         750         Wellissol   br BRA     MF  ...    0.0  0.00  0.00    0.00\n",
              "10053         751         Wellisson   br BRA     DF  ...    0.0  0.00  0.00    0.00\n",
              "10054         752          Welliton   br BRA     MF  ...    0.0  0.00  0.00    0.00\n",
              "10060         758           Willian   br BRA     DF  ...    0.0  0.00  0.00    0.00\n",
              "10062         760    Lucas Willians   br BRA     GK  ...    0.0  0.00  0.00    0.00\n",
              "\n",
              "[1197 rows x 22 columns]"
            ]
          },
          "metadata": {
            "tags": []
          },
          "execution_count": 122
        }
      ]
    }
  ]
}