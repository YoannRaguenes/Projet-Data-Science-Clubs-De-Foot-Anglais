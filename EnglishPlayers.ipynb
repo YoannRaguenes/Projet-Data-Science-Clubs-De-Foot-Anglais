{
  "nbformat": 4,
  "nbformat_minor": 0,
  "metadata": {
    "colab": {
      "name": "EnglishPlayers.ipynb",
      "provenance": [],
      "collapsed_sections": [],
      "authorship_tag": "ABX9TyMKAXwjD3pBdAvr90nacC1c",
      "include_colab_link": true
    },
    "kernelspec": {
      "name": "python3",
      "display_name": "Python 3"
    }
  },
  "cells": [
    {
      "cell_type": "markdown",
      "metadata": {
        "id": "view-in-github",
        "colab_type": "text"
      },
      "source": [
        "<a href=\"https://colab.research.google.com/github/YoannRaguenes/Projet-Data-Science-Clubs-De-Foot-Anglais/blob/master/EnglishPlayers.ipynb\" target=\"_parent\"><img src=\"https://colab.research.google.com/assets/colab-badge.svg\" alt=\"Open In Colab\"/></a>"
      ]
    },
    {
      "cell_type": "markdown",
      "metadata": {
        "id": "GjO47EBoPhJP",
        "colab_type": "text"
      },
      "source": [
        "#English Player Dataset\n",
        "The purpose of this code is to create a dataset of almost all professional football players in the English leagues.\n",
        "We will catch the data from websites:\n",
        "\n",
        "*   https://sofifa.com\n",
        "*   https://fbref.com\n",
        "\n",
        "we are going to use the library Beautifulsoup in order to collect informations on the website."
      ]
    },
    {
      "cell_type": "code",
      "metadata": {
        "id": "EwLNiXhrqQY1",
        "colab_type": "code",
        "colab": {}
      },
      "source": [
        "from urllib.request import urlopen\n",
        "from bs4 import BeautifulSoup\n",
        "from bs4 import Comment\n",
        "import pandas as pd\n",
        "from bs4.element import Tag "
      ],
      "execution_count": 0,
      "outputs": []
    },
    {
      "cell_type": "markdown",
      "metadata": {
        "id": "9OQZIsJ2QGjs",
        "colab_type": "text"
      },
      "source": [
        "###Find the stats of the players\n",
        "We define our function, the goal of this function is to create a dataframe with some stats about the players.\n",
        "The shape of the html code is the same for each page, there are tables with the stats for each player in the league.\n",
        "\n",
        "\n",
        "\n",
        "\n"
      ]
    },
    {
      "cell_type": "code",
      "metadata": {
        "id": "gQI_ovPtW_XP",
        "colab_type": "code",
        "colab": {}
      },
      "source": [
        "def getPlayers(Html,div):\n",
        "  html = urlopen(Html)\n",
        "  html_soup = BeautifulSoup(html, 'html.parser')\n",
        "  rows = html_soup.findAll(\"div\",id=\"all_stats_standard\")\n",
        "  comments =rows[0].findAll(string=lambda text: isinstance(text, Comment))\n",
        "  for c in comments:\n",
        "    c.extract()\n",
        "\n",
        "  sp = BeautifulSoup(c, 'html.parser')\n",
        "  l = sp.table.tbody.findAll(\"tr\")\n",
        "  players = []\n",
        "  for row in range(len(l)):\n",
        "    if l[row].a!=None :\n",
        "      player4 = {\n",
        "                  \"name\": l[row].a.text,\n",
        "                  \"Nation\": l[row].findAll(\"td\",class_=\"left\")[1].text,\n",
        "                  \"Pos\": l[row].findAll(\"td\",class_=\"center\")[0].text,\n",
        "                  \"Squad\": l[row].findAll(\"td\",class_=\"left\")[2].text,\n",
        "                 \"division\": div,\n",
        "                  \"Age\": l[row].findAll(\"td\",class_=\"center\")[1].text,\n",
        "                  \"Born\": l[row].findAll(\"td\",class_=\"center\")[2].text,\n",
        "               \"MP\" : l[row].findAll(\"td\",class_=\"right\")[0].text,\n",
        "               \"Starts\" : l[row].findAll(\"td\",class_=\"right\")[1].text,\n",
        "               \"Min\" : l[row].findAll(\"td\",class_=\"right\")[2].text,\n",
        "               \"Gls\" : l[row].findAll(\"td\",class_=\"right\")[3].text,\n",
        "               \"Ast\" : l[row].findAll(\"td\",class_=\"right\")[4].text,\n",
        "               \"PK\" : l[row].findAll(\"td\",class_=\"right\")[5].text,\n",
        "               \"PKatt\" : l[row].findAll(\"td\",class_=\"right\")[6].text,\n",
        "               \"CrdY\" : l[row].findAll(\"td\",class_=\"right\")[7].text,\n",
        "               \"CrdR\" : l[row].findAll(\"td\",class_=\"right\")[8].text,\n",
        "               \"Gls/90\" : l[row].findAll(\"td\",class_=\"right\")[9].text,\n",
        "               \"Ast/90\" : l[row].findAll(\"td\",class_=\"right\")[10].text,\n",
        "               \"G+A\" : l[row].findAll(\"td\",class_=\"right\")[11].text,\n",
        "               \"G-PK\" : l[row].findAll(\"td\",class_=\"right\")[12].text,\n",
        "               \"G+A-PK\" : l[row].findAll(\"td\",class_=\"right\")[13].text,\n",
        "               \"Value\": None ,\n",
        "              }\n",
        "      players.append(player4)\n",
        "  return players\n"
      ],
      "execution_count": 0,
      "outputs": []
    },
    {
      "cell_type": "markdown",
      "metadata": {
        "id": "mVD8_pUNYag9",
        "colab_type": "text"
      },
      "source": [
        "We use the function for the different leagues"
      ]
    },
    {
      "cell_type": "code",
      "metadata": {
        "id": "PYSM2jNRid_3",
        "colab_type": "code",
        "colab": {}
      },
      "source": [
        "#england\n",
        "df1 = pd.DataFrame(getPlayers(\"https://fbref.com/en/comps/9/stats/Premier-League-Stats\",1))\n",
        "df2 = pd.DataFrame(getPlayers(\"https://fbref.com/en/comps/10/stats/Championship-Stats\",2))\n",
        "df3 = pd.DataFrame(getPlayers(\"https://fbref.com/en/comps/15/stats/League-One-Stats\",3))\n",
        "df4 = pd.DataFrame(getPlayers(\"https://fbref.com/en/comps/16/stats/League-Two-Stats\",4))\n",
        "df5 = pd.DataFrame(getPlayers(\"https://fbref.com/en/comps/34/stats/National-League-Stats\",5))\n",
        "tot = pd.concat([df1,df2,df3,df4,df5])\n",
        "tot[1:-1].to_csv(\"ENplayers.csv\", encoding=\"utf-8-sig\")\n"
      ],
      "execution_count": 0,
      "outputs": []
    },
    {
      "cell_type": "code",
      "metadata": {
        "id": "CmuhyM9amJJD",
        "colab_type": "code",
        "colab": {}
      },
      "source": [
        "tot = pd.concat([df1,df2,df3,df4,df5])"
      ],
      "execution_count": 0,
      "outputs": []
    },
    {
      "cell_type": "markdown",
      "metadata": {
        "id": "-lFiMFnjZGzH",
        "colab_type": "text"
      },
      "source": [
        "Read the csv file "
      ]
    },
    {
      "cell_type": "code",
      "metadata": {
        "id": "Y5rV9Dkq11ea",
        "colab_type": "code",
        "colab": {}
      },
      "source": [
        "tot[1:-1].to_csv(\"ENplayers.csv\", encoding=\"utf-8-sig\")"
      ],
      "execution_count": 0,
      "outputs": []
    },
    {
      "cell_type": "code",
      "metadata": {
        "id": "MRsb3ZaYylDs",
        "colab_type": "code",
        "colab": {}
      },
      "source": [
        "df = pd.read_csv('ENplayers.csv')"
      ],
      "execution_count": 0,
      "outputs": []
    },
    {
      "cell_type": "markdown",
      "metadata": {
        "id": "myAYmwM6ZPr3",
        "colab_type": "text"
      },
      "source": [
        "Now we can do some requests and analysis with this dataframe.\n"
      ]
    },
    {
      "cell_type": "code",
      "metadata": {
        "id": "-e5m5KRnYm1x",
        "colab_type": "code",
        "colab": {
          "base_uri": "https://localhost:8080/",
          "height": 162
        },
        "outputId": "6e31bb95-de2a-487d-a861-e97fdc490ba5"
      },
      "source": [
        "df.loc[ (df['Age']<=20) & (df['Gls']>=10)]\n"
      ],
      "execution_count": 15,
      "outputs": [
        {
          "output_type": "execute_result",
          "data": {
            "text/html": [
              "<div>\n",
              "<style scoped>\n",
              "    .dataframe tbody tr th:only-of-type {\n",
              "        vertical-align: middle;\n",
              "    }\n",
              "\n",
              "    .dataframe tbody tr th {\n",
              "        vertical-align: top;\n",
              "    }\n",
              "\n",
              "    .dataframe thead th {\n",
              "        text-align: right;\n",
              "    }\n",
              "</style>\n",
              "<table border=\"1\" class=\"dataframe\">\n",
              "  <thead>\n",
              "    <tr style=\"text-align: right;\">\n",
              "      <th></th>\n",
              "      <th>Unnamed: 0</th>\n",
              "      <th>name</th>\n",
              "      <th>Nation</th>\n",
              "      <th>Pos</th>\n",
              "      <th>Squad</th>\n",
              "      <th>division</th>\n",
              "      <th>Age</th>\n",
              "      <th>Born</th>\n",
              "      <th>MP</th>\n",
              "      <th>Starts</th>\n",
              "      <th>Min</th>\n",
              "      <th>Gls</th>\n",
              "      <th>Ast</th>\n",
              "      <th>PK</th>\n",
              "      <th>PKatt</th>\n",
              "      <th>CrdY</th>\n",
              "      <th>CrdR</th>\n",
              "      <th>Gls/90</th>\n",
              "      <th>Ast/90</th>\n",
              "      <th>G+A</th>\n",
              "      <th>G-PK</th>\n",
              "      <th>G+A-PK</th>\n",
              "      <th>Value</th>\n",
              "    </tr>\n",
              "  </thead>\n",
              "  <tbody>\n",
              "    <tr>\n",
              "      <th>880</th>\n",
              "      <td>389</td>\n",
              "      <td>Bryan Mbeumo</td>\n",
              "      <td>fr FRA</td>\n",
              "      <td>FW</td>\n",
              "      <td>Brentford</td>\n",
              "      <td>2</td>\n",
              "      <td>19.0</td>\n",
              "      <td>1999.0</td>\n",
              "      <td>34</td>\n",
              "      <td>29</td>\n",
              "      <td>2,404</td>\n",
              "      <td>14</td>\n",
              "      <td>6.0</td>\n",
              "      <td>0</td>\n",
              "      <td>0</td>\n",
              "      <td>3</td>\n",
              "      <td>0</td>\n",
              "      <td>0.52</td>\n",
              "      <td>0.22</td>\n",
              "      <td>0.75</td>\n",
              "      <td>0.52</td>\n",
              "      <td>0.75</td>\n",
              "      <td>NaN</td>\n",
              "    </tr>\n",
              "    <tr>\n",
              "      <th>1375</th>\n",
              "      <td>206</td>\n",
              "      <td>Marcus Forss</td>\n",
              "      <td>fi FIN</td>\n",
              "      <td>FW</td>\n",
              "      <td>AFC Wimbledon</td>\n",
              "      <td>3</td>\n",
              "      <td>20.0</td>\n",
              "      <td>1999.0</td>\n",
              "      <td>18</td>\n",
              "      <td>17</td>\n",
              "      <td>1,346</td>\n",
              "      <td>11</td>\n",
              "      <td>1.0</td>\n",
              "      <td>3</td>\n",
              "      <td>3</td>\n",
              "      <td>3</td>\n",
              "      <td>1</td>\n",
              "      <td>0.74</td>\n",
              "      <td>0.07</td>\n",
              "      <td>0.80</td>\n",
              "      <td>0.53</td>\n",
              "      <td>0.60</td>\n",
              "      <td>NaN</td>\n",
              "    </tr>\n",
              "  </tbody>\n",
              "</table>\n",
              "</div>"
            ],
            "text/plain": [
              "      Unnamed: 0          name  Nation Pos  ...   G+A  G-PK  G+A-PK  Value\n",
              "880          389  Bryan Mbeumo  fr FRA  FW  ...  0.75  0.52    0.75    NaN\n",
              "1375         206  Marcus Forss  fi FIN  FW  ...  0.80  0.53    0.60    NaN\n",
              "\n",
              "[2 rows x 23 columns]"
            ]
          },
          "metadata": {
            "tags": []
          },
          "execution_count": 15
        }
      ]
    },
    {
      "cell_type": "code",
      "metadata": {
        "id": "Az-tDTdx1h47",
        "colab_type": "code",
        "colab": {}
      },
      "source": [
        "r1= df.sort_values(by=[\"Gls\"]).tail(10)\n"
      ],
      "execution_count": 0,
      "outputs": []
    },
    {
      "cell_type": "code",
      "metadata": {
        "id": "cX2xdrPN1Q8W",
        "colab_type": "code",
        "colab": {
          "base_uri": "https://localhost:8080/",
          "height": 275
        },
        "outputId": "4b1f66b7-7b5c-483c-d5ba-8c5df4c47e81"
      },
      "source": [
        "df.loc[(df['Pos']== 'MF')&(df['Ast']>=10) & (df['Gls']>=5)].sort_values(by=[\"G+A\"])"
      ],
      "execution_count": 17,
      "outputs": [
        {
          "output_type": "execute_result",
          "data": {
            "text/html": [
              "<div>\n",
              "<style scoped>\n",
              "    .dataframe tbody tr th:only-of-type {\n",
              "        vertical-align: middle;\n",
              "    }\n",
              "\n",
              "    .dataframe tbody tr th {\n",
              "        vertical-align: top;\n",
              "    }\n",
              "\n",
              "    .dataframe thead th {\n",
              "        text-align: right;\n",
              "    }\n",
              "</style>\n",
              "<table border=\"1\" class=\"dataframe\">\n",
              "  <thead>\n",
              "    <tr style=\"text-align: right;\">\n",
              "      <th></th>\n",
              "      <th>Unnamed: 0</th>\n",
              "      <th>name</th>\n",
              "      <th>Nation</th>\n",
              "      <th>Pos</th>\n",
              "      <th>Squad</th>\n",
              "      <th>division</th>\n",
              "      <th>Age</th>\n",
              "      <th>Born</th>\n",
              "      <th>MP</th>\n",
              "      <th>Starts</th>\n",
              "      <th>Min</th>\n",
              "      <th>Gls</th>\n",
              "      <th>Ast</th>\n",
              "      <th>PK</th>\n",
              "      <th>PKatt</th>\n",
              "      <th>CrdY</th>\n",
              "      <th>CrdR</th>\n",
              "      <th>Gls/90</th>\n",
              "      <th>Ast/90</th>\n",
              "      <th>G+A</th>\n",
              "      <th>G-PK</th>\n",
              "      <th>G+A-PK</th>\n",
              "      <th>Value</th>\n",
              "    </tr>\n",
              "  </thead>\n",
              "  <tbody>\n",
              "    <tr>\n",
              "      <th>1092</th>\n",
              "      <td>601</td>\n",
              "      <td>John Swift</td>\n",
              "      <td>eng ENG</td>\n",
              "      <td>MF</td>\n",
              "      <td>Reading</td>\n",
              "      <td>2</td>\n",
              "      <td>24.0</td>\n",
              "      <td>1995.0</td>\n",
              "      <td>32</td>\n",
              "      <td>31</td>\n",
              "      <td>2,652</td>\n",
              "      <td>5</td>\n",
              "      <td>10.0</td>\n",
              "      <td>0</td>\n",
              "      <td>0</td>\n",
              "      <td>6</td>\n",
              "      <td>1</td>\n",
              "      <td>0.17</td>\n",
              "      <td>0.34</td>\n",
              "      <td>0.51</td>\n",
              "      <td>0.17</td>\n",
              "      <td>0.51</td>\n",
              "      <td>NaN</td>\n",
              "    </tr>\n",
              "    <tr>\n",
              "      <th>2511</th>\n",
              "      <td>682</td>\n",
              "      <td>Randell Williams</td>\n",
              "      <td>eng ENG</td>\n",
              "      <td>MF</td>\n",
              "      <td>Exeter City</td>\n",
              "      <td>4</td>\n",
              "      <td>22.0</td>\n",
              "      <td>1996.0</td>\n",
              "      <td>37</td>\n",
              "      <td>33</td>\n",
              "      <td>3,005</td>\n",
              "      <td>5</td>\n",
              "      <td>13.0</td>\n",
              "      <td>0</td>\n",
              "      <td>0</td>\n",
              "      <td>4</td>\n",
              "      <td>0</td>\n",
              "      <td>0.15</td>\n",
              "      <td>0.39</td>\n",
              "      <td>0.54</td>\n",
              "      <td>0.15</td>\n",
              "      <td>0.54</td>\n",
              "      <td>NaN</td>\n",
              "    </tr>\n",
              "    <tr>\n",
              "      <th>1378</th>\n",
              "      <td>209</td>\n",
              "      <td>Scott Fraser</td>\n",
              "      <td>sco SCO</td>\n",
              "      <td>MF</td>\n",
              "      <td>Burton Albion</td>\n",
              "      <td>3</td>\n",
              "      <td>24.0</td>\n",
              "      <td>1995.0</td>\n",
              "      <td>30</td>\n",
              "      <td>25</td>\n",
              "      <td>2,296</td>\n",
              "      <td>5</td>\n",
              "      <td>11.0</td>\n",
              "      <td>0</td>\n",
              "      <td>0</td>\n",
              "      <td>2</td>\n",
              "      <td>0</td>\n",
              "      <td>0.20</td>\n",
              "      <td>0.43</td>\n",
              "      <td>0.63</td>\n",
              "      <td>0.20</td>\n",
              "      <td>0.63</td>\n",
              "      <td>NaN</td>\n",
              "    </tr>\n",
              "    <tr>\n",
              "      <th>100</th>\n",
              "      <td>101</td>\n",
              "      <td>Kevin De Bruyne</td>\n",
              "      <td>be BEL</td>\n",
              "      <td>MF</td>\n",
              "      <td>Manchester City</td>\n",
              "      <td>1</td>\n",
              "      <td>28.0</td>\n",
              "      <td>1991.0</td>\n",
              "      <td>26</td>\n",
              "      <td>25</td>\n",
              "      <td>2,156</td>\n",
              "      <td>8</td>\n",
              "      <td>17.0</td>\n",
              "      <td>0</td>\n",
              "      <td>0</td>\n",
              "      <td>2</td>\n",
              "      <td>0</td>\n",
              "      <td>0.33</td>\n",
              "      <td>0.71</td>\n",
              "      <td>1.04</td>\n",
              "      <td>0.33</td>\n",
              "      <td>1.04</td>\n",
              "      <td>NaN</td>\n",
              "    </tr>\n",
              "  </tbody>\n",
              "</table>\n",
              "</div>"
            ],
            "text/plain": [
              "      Unnamed: 0              name   Nation Pos  ...   G+A  G-PK  G+A-PK  Value\n",
              "1092         601        John Swift  eng ENG  MF  ...  0.51  0.17    0.51    NaN\n",
              "2511         682  Randell Williams  eng ENG  MF  ...  0.54  0.15    0.54    NaN\n",
              "1378         209      Scott Fraser  sco SCO  MF  ...  0.63  0.20    0.63    NaN\n",
              "100          101   Kevin De Bruyne   be BEL  MF  ...  1.04  0.33    1.04    NaN\n",
              "\n",
              "[4 rows x 23 columns]"
            ]
          },
          "metadata": {
            "tags": []
          },
          "execution_count": 17
        }
      ]
    },
    {
      "cell_type": "code",
      "metadata": {
        "id": "OUKa4KNG9b21",
        "colab_type": "code",
        "colab": {}
      },
      "source": [
        "set(df.Squad)"
      ],
      "execution_count": 0,
      "outputs": []
    },
    {
      "cell_type": "markdown",
      "metadata": {
        "id": "e5it37vpc2EV",
        "colab_type": "text"
      },
      "source": [
        "### Find the market value of the players (en cours...)\n",
        "We are going to use the web site:   https://sofifa.com"
      ]
    },
    {
      "cell_type": "code",
      "metadata": {
        "id": "SWzFI4ogczEU",
        "colab_type": "code",
        "colab": {}
      },
      "source": [
        "from urllib.request import urlopen, Request\n",
        "headers = {'User-Agent':'Mozilla/5.0 (Windows NT 6.1) AppleWebKit/537.36 (KHTML, like Gecko) Chrome/41.0.2228.0 Safari/537.3'}\n",
        "reg_url = \"https://sofifa.com/players?type=all&lg%5B%5D=13\"\n",
        "req = Request(url=reg_url, headers=headers) \n",
        "html2 = urlopen(req)\n",
        "html_soup = BeautifulSoup(html2, 'html.parser')"
      ],
      "execution_count": 0,
      "outputs": []
    },
    {
      "cell_type": "code",
      "metadata": {
        "id": "YBZaQn9vAwTR",
        "colab_type": "code",
        "outputId": "b8d74b1f-df18-4963-fe75-997d83ad4919",
        "colab": {
          "base_uri": "https://localhost:8080/",
          "height": 34
        }
      },
      "source": [
        "rows = html_soup.findAll(\"div\",class_='column col-auto')\n",
        "rows[0].findAll('td',class_=\"col-name\")[0].text\n",
        "trs =rows[0].table.findAll('tr')\n",
        "trs[i].a.text\n",
        "#trs[1].findAll('td',class_='col-ae')[0].text\n",
        "#trs[1].findAll('td',class_='col-name')[1].a.text\n",
        "\n",
        "\n"
      ],
      "execution_count": 99,
      "outputs": [
        {
          "output_type": "execute_result",
          "data": {
            "text/plain": [
              "[]"
            ]
          },
          "metadata": {
            "tags": []
          },
          "execution_count": 99
        }
      ]
    },
    {
      "cell_type": "code",
      "metadata": {
        "id": "sg9ZzjAQWQDY",
        "colab_type": "code",
        "colab": {}
      },
      "source": [
        "def get_data(Url):\n",
        "  headers = {'User-Agent':'Mozilla/5.0 (Windows NT 6.1) AppleWebKit/537.36 (KHTML, like Gecko) Chrome/41.0.2228.0 Safari/537.3'}\n",
        "  reg_url = Url\n",
        "  req = Request(url=reg_url, headers=headers) \n",
        "  html2 = urlopen(req)\n",
        "  html_soup = BeautifulSoup(html2, 'html.parser')\n",
        "\n",
        "  liste=[]\n",
        "  for i in range(1,len(trs)):\n",
        "    try:\n",
        "      player4 = {\n",
        "                  \"name\": trs[i].a['data-tooltip'],\n",
        "                \"age\": trs[i].findAll('td',class_='col-ae')[0].text,\n",
        "                \"club\": trs[i].findAll('td',class_='col-name')[1].a.text,\n",
        "                  \"value\": trs[i].findAll('td',class_=\"col col-vl\")[0].text,\n",
        "                 }\n",
        "      liste.append(player4)\n",
        "      \n",
        "    except:\n",
        "      print('oups')\n",
        "  return liste\n",
        "\n",
        "\n"
      ],
      "execution_count": 0,
      "outputs": []
    },
    {
      "cell_type": "code",
      "metadata": {
        "id": "s3zbMydFXoJ6",
        "colab_type": "code",
        "colab": {}
      },
      "source": [
        "\n"
      ],
      "execution_count": 0,
      "outputs": []
    },
    {
      "cell_type": "code",
      "metadata": {
        "id": "23hnqdX9esw4",
        "colab_type": "code",
        "colab": {}
      },
      "source": [
        "dt = pd.DataFrame(get_data('https://sofifa.com/players?type=all&lg%5B0%5D=13&offset=0'))\n",
        "r ='val'\n",
        "urlListe =[%alias]\n",
        "url = 'https://sofifa.com/players?type=all&lg%5B0%5D=13&offset='\n",
        "for i in ['0','60','120','180','240','300']:\n",
        "  url1 = url + i\n",
        "  urlListe.append(url1)\n",
        "dt = pd.DataFrame(get_data('https://sofifa.com/players?type=all&lg%5B0%5D=13&offset=0'))\n",
        "for j in urlListe:\n",
        "  dt1= pd.DataFrame(get_data('https://sofifa.com/players?type=all&lg%5B0%5D=13&offset=0'))\n",
        "\n",
        "  \n",
        "  \n",
        "  \n"
      ],
      "execution_count": 0,
      "outputs": []
    },
    {
      "cell_type": "code",
      "metadata": {
        "id": "SssvWiiScy6-",
        "colab_type": "code",
        "outputId": "167bcc4d-979d-4216-d947-85ab38e6e599",
        "colab": {
          "base_uri": "https://localhost:8080/",
          "height": 114
        }
      },
      "source": [
        "df.loc[(df['name'].str.contains('Patrício'))]"
      ],
      "execution_count": 93,
      "outputs": [
        {
          "output_type": "execute_result",
          "data": {
            "text/html": [
              "<div>\n",
              "<style scoped>\n",
              "    .dataframe tbody tr th:only-of-type {\n",
              "        vertical-align: middle;\n",
              "    }\n",
              "\n",
              "    .dataframe tbody tr th {\n",
              "        vertical-align: top;\n",
              "    }\n",
              "\n",
              "    .dataframe thead th {\n",
              "        text-align: right;\n",
              "    }\n",
              "</style>\n",
              "<table border=\"1\" class=\"dataframe\">\n",
              "  <thead>\n",
              "    <tr style=\"text-align: right;\">\n",
              "      <th></th>\n",
              "      <th>Unnamed: 0</th>\n",
              "      <th>name</th>\n",
              "      <th>Nation</th>\n",
              "      <th>Pos</th>\n",
              "      <th>Squad</th>\n",
              "      <th>division</th>\n",
              "      <th>Age</th>\n",
              "      <th>Born</th>\n",
              "      <th>MP</th>\n",
              "      <th>Starts</th>\n",
              "      <th>Min</th>\n",
              "      <th>Gls</th>\n",
              "      <th>Ast</th>\n",
              "      <th>PK</th>\n",
              "      <th>PKatt</th>\n",
              "      <th>CrdY</th>\n",
              "      <th>CrdR</th>\n",
              "      <th>Gls/90</th>\n",
              "      <th>Ast/90</th>\n",
              "      <th>G+A</th>\n",
              "      <th>G-PK</th>\n",
              "      <th>G+A-PK</th>\n",
              "      <th>Value</th>\n",
              "    </tr>\n",
              "  </thead>\n",
              "  <tbody>\n",
              "    <tr>\n",
              "      <th>339</th>\n",
              "      <td>340</td>\n",
              "      <td>Rui Patrício</td>\n",
              "      <td>pt POR</td>\n",
              "      <td>GK</td>\n",
              "      <td>Wolves</td>\n",
              "      <td>1</td>\n",
              "      <td>31.0</td>\n",
              "      <td>1988.0</td>\n",
              "      <td>29</td>\n",
              "      <td>29</td>\n",
              "      <td>2,610</td>\n",
              "      <td>0</td>\n",
              "      <td>0.0</td>\n",
              "      <td>0</td>\n",
              "      <td>0</td>\n",
              "      <td>0</td>\n",
              "      <td>0</td>\n",
              "      <td>0.0</td>\n",
              "      <td>0.0</td>\n",
              "      <td>0.0</td>\n",
              "      <td>0.0</td>\n",
              "      <td>0.0</td>\n",
              "      <td>NaN</td>\n",
              "    </tr>\n",
              "  </tbody>\n",
              "</table>\n",
              "</div>"
            ],
            "text/plain": [
              "     Unnamed: 0          name  Nation Pos  ...  G+A  G-PK  G+A-PK  Value\n",
              "339         340  Rui Patrício  pt POR  GK  ...  0.0   0.0     0.0    NaN\n",
              "\n",
              "[1 rows x 23 columns]"
            ]
          },
          "metadata": {
            "tags": []
          },
          "execution_count": 93
        }
      ]
    },
    {
      "cell_type": "code",
      "metadata": {
        "id": "Ddpg7CqiSYKp",
        "colab_type": "code",
        "outputId": "903486a0-d3a6-4c98-e6c0-2025b6a31f73",
        "colab": {
          "base_uri": "https://localhost:8080/",
          "height": 164
        }
      },
      "source": [
        "tot.loc[(tot['name'].str.contains('Alli')&(tot['Squad']==curent_club))]"
      ],
      "execution_count": 84,
      "outputs": [
        {
          "output_type": "error",
          "ename": "NameError",
          "evalue": "ignored",
          "traceback": [
            "\u001b[0;31m---------------------------------------------------------------------------\u001b[0m",
            "\u001b[0;31mNameError\u001b[0m                                 Traceback (most recent call last)",
            "\u001b[0;32m<ipython-input-84-342e3c0673f3>\u001b[0m in \u001b[0;36m<module>\u001b[0;34m()\u001b[0m\n\u001b[0;32m----> 1\u001b[0;31m \u001b[0mtot\u001b[0m\u001b[0;34m.\u001b[0m\u001b[0mloc\u001b[0m\u001b[0;34m[\u001b[0m\u001b[0;34m(\u001b[0m\u001b[0mtot\u001b[0m\u001b[0;34m[\u001b[0m\u001b[0;34m'name'\u001b[0m\u001b[0;34m]\u001b[0m\u001b[0;34m.\u001b[0m\u001b[0mstr\u001b[0m\u001b[0;34m.\u001b[0m\u001b[0mcontains\u001b[0m\u001b[0;34m(\u001b[0m\u001b[0;34m'Alli'\u001b[0m\u001b[0;34m)\u001b[0m\u001b[0;34m&\u001b[0m\u001b[0;34m(\u001b[0m\u001b[0mtot\u001b[0m\u001b[0;34m[\u001b[0m\u001b[0;34m'Squad'\u001b[0m\u001b[0;34m]\u001b[0m\u001b[0;34m==\u001b[0m\u001b[0mcurent_club\u001b[0m\u001b[0;34m)\u001b[0m\u001b[0;34m)\u001b[0m\u001b[0;34m]\u001b[0m\u001b[0;34m\u001b[0m\u001b[0;34m\u001b[0m\u001b[0m\n\u001b[0m",
            "\u001b[0;31mNameError\u001b[0m: name 'curent_club' is not defined"
          ]
        }
      ]
    },
    {
      "cell_type": "code",
      "metadata": {
        "colab_type": "code",
        "id": "lVGdpkJwVZvV",
        "colab": {}
      },
      "source": [
        "lName=[]\n",
        "lAge=[]\n",
        "for i in range(len(liste)):\n",
        "  curent_name = liste[i]['name'][1:-1]\n",
        "  \n",
        "  curent_age = liste[i]['age']\n",
        "  curent_club = liste[i]['club']\n",
        "  curent_value = liste[i]['value']\n",
        "  r = tot.loc[(tot['Age']==curent_age) &(tot['Squad']==curent_club)  & (tot['name'].str.contains(curent_name))]\n",
        "  print(r)\n",
        "  \n",
        "\n",
        "\n",
        "\n",
        "\n",
        "\n",
        "\n"
      ],
      "execution_count": 0,
      "outputs": []
    },
    {
      "cell_type": "code",
      "metadata": {
        "id": "IshH2AOQDEyi",
        "colab_type": "code",
        "colab": {}
      },
      "source": [
        "lName=[]\n",
        "lAge=[]\n",
        "for i in range(len(liste)):\n",
        "  curent_name = liste[i]['name'][1:-1]\n",
        "  \n",
        "  curent_age = liste[i]['age']\n",
        "  curent_club = liste[i]['club']\n",
        "  curent_value = liste[i]['value']\n",
        "  tot.loc[(tot['Age']==curent_age) &(tot['Squad'].str.contains(curent_club))  & (tot['name'].str.contains(curent_name)),'Value']=curent_value\n",
        "\n",
        "tot.loc[tot['name'].str.contains('Gomez')]\n",
        "  \n",
        "\n",
        "\n",
        "\n",
        "\n",
        "\n",
        "\n"
      ],
      "execution_count": 0,
      "outputs": []
    },
    {
      "cell_type": "code",
      "metadata": {
        "id": "s7GsuwVRiS6m",
        "colab_type": "code",
        "colab": {}
      },
      "source": [
        "def levenshtein(mot1,mot2):\n",
        "\t# ligne_i est un tableau tel que tout au long de l'algorithme,\n",
        "\t# ligne_i[k] contienne la distance de levenshtein entre les k premières lettres de mot1\n",
        "\t# et les i premières lettres de mot2\n",
        "\t# Au début, i=0, et la distance entre les k premières lettres de mot1 et la chaîne vide\n",
        "\t# vaut bien sûr k. (il faut faire k suppressions pour passer des k premières lettres de mot1\n",
        "\t# à la chaîne vide)\n",
        "\tligne_i = [ k for k in range(len(mot1)+1) ]\n",
        "\t# i va ensuite varier de 1 à len(mot2)\n",
        "\tfor i in range(1, len(mot2) + 1):\n",
        "\t\t# i vient d'être incrémenté. On stocke dans ligne_prec la valeur de la ligne numéro i-1\n",
        "\t\tligne_prec = ligne_i\n",
        "\t\t# On crée la nouvelle ligne, dont le premier élément (l'élement numéro 0) doit être\n",
        "\t\t# la distance de levenshtein entre la chaîne vide (\"\") et les i premières lettres de mot2, soit i\n",
        "\t\t# (il faut faire i additions pour passer de la chaîne vide aux i premières lettres de mot2)\n",
        "\t\tligne_i = [i]*(len(mot1)+1)\n",
        "\t\t# On va ensuite remplir le reste de la ligne i, c'est-à-dire calculer ligne_i[k] pour k allant de 1 à len(mot1)\n",
        "\t\tfor k in range(1,len(ligne_i)):\n",
        "\t\t\t# La variable cout vaut 0 si la kième lettre de mot1 est la même que la ième lettre de mot2, et 1 sinon\n",
        "\t\t\t#La kième lettre de mot1 s'obtient avec mot1[k-1], les indices commencent à 0\n",
        "\t\t\tcout = int(mot1[k-1] != mot2[i-1])\n",
        "\t\t\t#Voilà enfin le sel de l'algorithme, le calcul de ligne_i[k] pour i et k quelconques,\n",
        "\t\t\t# connaissant ligne_prec[k-1], ligne_prec[k] et ligne_i[k-1]\n",
        "\t\t\tligne_i[k] = min(ligne_i[k-1] + 1, ligne_prec[k] + 1, ligne_prec[k-1] + cout)\n",
        "\t# Lorsque l'on sort de la boucle, i vaut len(mot2)\n",
        "\t#Ce que l'on cherche est la distance de levenshtein entre les len(mot1) premières lettres de mot1\n",
        "\t# et les len(mot2) premières lettres de mot2, qui est stockée dans ligne_i[len(mot1)]\n",
        "\treturn ligne_i[len(mot1)]\n",
        "print (levenshtein(\"chiens\", \"niche\"))"
      ],
      "execution_count": 0,
      "outputs": []
    },
    {
      "cell_type": "code",
      "metadata": {
        "id": "h0M77CtOiUhf",
        "colab_type": "code",
        "colab": {}
      },
      "source": [
        "levenshtein('C.Ronaldo','Cristiano Ronaldo')"
      ],
      "execution_count": 0,
      "outputs": []
    }
  ]
}